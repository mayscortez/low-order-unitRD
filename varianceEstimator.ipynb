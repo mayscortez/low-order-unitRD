{
 "cells": [
  {
   "attachments": {},
   "cell_type": "markdown",
   "metadata": {},
   "source": [
    "# The Variance Estimator\n",
    "Let $P_\\mathbf{x} := \\mathbb{P}(\\mathbf{z} = \\mathbf{x})$.\n",
    "Let $\\mathbf{z}^*$ be the realized treatment vector.\n",
    "Let $P^* := \\mathbb{P}(\\mathbf{z} = \\mathbf{z^*})$ and $P_S^* := \\mathbb{P}(\\mathbf{z_S} = \\mathbf{z_S^*})$ for $S\\subseteq[n]$.\n",
    "Then, the variance estimator is given by $\\widehat{\\text{Var}}(\\widehat{TTE}) = (*) + (**)$ where \n",
    "$$(*) = \\frac{1}{n^2} \\sum_{i=1}^n \\sum_{j \\in M_i} \\frac{1}{P_{N_i \\cup N_j}^*} \\cdot Y_i(\\mathbf{z}^*)w_i(\\mathbf{z}^*) \\cdot Y_j(\\mathbf{z}^*)w_j(\\mathbf{z}^*)\\cdot \\text{Cov}_{ij}$$\n",
    "and\n",
    "$$(**) = \\frac{1}{n^2} \\sum_{i=1}^n P_{N_i}^* \\cdot Y_i^2\\mathbf{z^*} w_i^2\\mathbf{z^*} \\cdot \\sum_{j \\in M_i} 2^{|N_j|} - 2^{|N_j\\setminus N_i|}$$\n",
    "with \n",
    "$$\\text{Cov}_{ij} := \\prod_{k \\in N_i \\cup N_j} p^{\\mathbf{z}_k^*}(1-p)^{1-\\mathbf{z}_k^*}\\left(1 - \\prod_{\\ell \\in N_i \\cap N_j} p^{\\mathbf{z}_\\ell^*}(1-p)^{1-\\mathbf{z}_\\ell^*}\\right).$$"
   ]
  },
  {
   "attachments": {},
   "cell_type": "markdown",
   "metadata": {},
   "source": [
    "## Computing Term 1\n",
    "We compute the first term, $(*)$, as follows:\n",
    "- First, create an $n \\times 1$ array $\\mathbf{YW}$ with entry $i$ equal to $Y_i(\\mathbf{z}^*)w_i(\\mathbf{z}^*)$.\n",
    "- Next, we create an $n \\times 1$ array $\\mathbf{V}$ with entry $i$ equal to $$\\sum_{j \\in M_i} \\frac{1}{P_{N_i \\cup N_j}^*} \\cdot Y_j(\\mathbf{z}^*)w_j(\\mathbf{z}^*)\\cdot \\text{Cov}_{ij}.$$\n",
    "    -- For each $i \\in [n]$, we create the following $m_i := |M_i| \\times 1$ arrays: \n",
    "    $$\\mathbf{P}_i := \\begin{bmatrix} 1/P_{N_i \\cup N_{j_1}} \\\\ \\vdots \\\\ 1/P_{N_i \\cup N_{j_{m_i}}} \\end{bmatrix},\\ \n",
    "    \\mathbf{YW}_i = \\begin{bmatrix} Y_{j_1}(\\mathbf{z}^*)w_{j_1}(\\mathbf{z}^*) \\\\ \\vdots \\\\ Y_{j_{m_i}}(\\mathbf{z}^*)w_{j_{m_i}}(\\mathbf{z}^*) \\end{bmatrix}, \\\n",
    "    \\textbf{COV}_i := \\begin{bmatrix} \\text{Cov}_{i{j_1}} \\\\ \\vdots \\\\ \\text{Cov}_{i{j_{m_i}}} \\end{bmatrix}.$$\n",
    "\n",
    "    -- Then, entry-wise multiply these arrays to get one array, sum the entries of the resulting array, and that sum is the $i$-th entry of $\\mathbf{V}$.\n",
    "- Then, return the dot product of $\\mathbf{YW}$ and $\\mathbf{V}$ divided by $n^2$."
   ]
  },
  {
   "attachments": {},
   "cell_type": "markdown",
   "metadata": {},
   "source": [
    "## Computing Term 2\n",
    "We compute the second term, $(**)$, as follows:\n",
    "- First, compute an $n \\times 1$ array $\\mathbf{PY2W2}$ where entry $i$ equals $P_{N_i}^* Y_i^2(\\mathbf{z}^*) w_i^2(\\mathbf{z}^*).$\n",
    "- Then, compute an $n \\times 1$ array $\\mathbf{CNTS}$ where entry $i$ equals $$\\sum_{j\\in M_i} 2^{|N_j|} - 2^{|N_j \\setminus N_i|}.$$\n",
    "- Finally, take the dot product of $\\mathbf{PY2W2}$ and $\\mathbf{CNTS}$ and divide by $n^2$"
   ]
  },
  {
   "attachments": {},
   "cell_type": "markdown",
   "metadata": {},
   "source": [
    "## The Code"
   ]
  },
  {
   "cell_type": "code",
   "execution_count": 1,
   "metadata": {},
   "outputs": [],
   "source": [
    "import numpy as np"
   ]
  },
  {
   "cell_type": "code",
   "execution_count": 2,
   "metadata": {},
   "outputs": [],
   "source": [
    "def two_hop_neighbors(i,A):\n",
    "    '''Returns a list or array containing the units in i's two-hop network neighborhood, M_i := {j : N_i intersect N_j is nonempty}'''\n",
    "    pass"
   ]
  },
  {
   "cell_type": "code",
   "execution_count": 5,
   "metadata": {},
   "outputs": [],
   "source": [
    "def var_est(n, p, y, A, z):\n",
    "    '''\n",
    "    n : int\n",
    "        size of the population\n",
    "    p : float\n",
    "        treatment probability\n",
    "    y : numpy array\n",
    "        observations\n",
    "    A : numpy array \n",
    "        adjacency matrix where (i,j)th entry = 1 iff j's treatment affects i's outcome\n",
    "    z : numpy array\n",
    "        realized treatment assignment vector\n",
    "    '''\n",
    "    zz = z/p - (1-z)/(1-p)\n",
    "    w = A.dot(zz)\n",
    "    YW = y * w\n",
    "    YW_sq = np.square(YW)\n",
    "\n",
    "    V = np.zeros(n)\n",
    "    PY2W2 = np.zeros(n)\n",
    "    CNTS = np.zeros(n)\n",
    "\n",
    "    prob_p = np.power(np.ones(n)*p, z) \n",
    "    prob_1_minus_p = np.power(1 - np.ones(n)*p, 1 - z)\n",
    "    \n",
    "    for i in np.arange(n):\n",
    "        Ni = np.nonzero(A[i,:])\n",
    "        Mi = two_hop_neighbors(i,A)\n",
    "\n",
    "        Pi = np.zeros(len(Mi))\n",
    "        COVi = np.zeros(len(Mi))\n",
    "        sum = 0\n",
    "        for j in np.arange(len(Mi)):\n",
    "            Nj = np.nonzero(A[Mi[j], :])\n",
    "            Ni_or_Nj = np.union1d(Ni,Nj)\n",
    "\n",
    "            # Compute Pi\n",
    "            mult_p = prob_p[Ni_or_Nj]\n",
    "            mult_1_minus_p = prob_1_minus_p[Ni_or_Nj]\n",
    "            Pi[j] = np.prod(mult_p) * np.prod(mult_1_minus_p)\n",
    "\n",
    "            # Compute COVi\n",
    "            Ni_and_Nj = np.intersect1d(Ni,Nj)\n",
    "            mult_p = prob_p[Ni_and_Nj]\n",
    "            mult_1_minus_p = prob_1_minus_p[Ni_and_Nj]\n",
    "            temp = np.prod(mult_p) * np.prod(mult_1_minus_p)\n",
    "            COVi[j] = Pi[j] * (1 - temp)\n",
    "\n",
    "            # Compute CNTS[i]\n",
    "            Nj_minus_Ni = np.setdiff1d(Nj,Ni)\n",
    "            sum = sum + (2**len(Nj) - 2**len(Nj_minus_Ni))\n",
    "\n",
    "\n",
    "        # Compute V\n",
    "        V[i] = np.sum(1/Pi * YW[Mi] * COVi)\n",
    "\n",
    "        # Compute PY2W2\n",
    "        mult_p = prob_p[Ni]\n",
    "        mult_1_minus_p = prob_1_minus_p[Ni]\n",
    "        PY2W2[i] = np.prod(mult_p) * np.prod(mult_1_minus_p) * YW_sq[i]\n",
    "\n",
    "        # Compute CNTS\n",
    "        CNTS[i] = sum\n",
    "    \n",
    "    term1 = (1/n**2) * np.dot(YW, V)\n",
    "    term2 = (1/n**2) * np.dot(PY2W2, CNTS)\n",
    "    return term1+term2\n",
    "\n"
   ]
  },
  {
   "attachments": {},
   "cell_type": "markdown",
   "metadata": {},
   "source": [
    "# Experiments"
   ]
  },
  {
   "cell_type": "code",
   "execution_count": 6,
   "metadata": {},
   "outputs": [],
   "source": [
    "import scipy.sparse"
   ]
  },
  {
   "cell_type": "code",
   "execution_count": null,
   "metadata": {},
   "outputs": [],
   "source": [
    "def var_bound(n, p, A, C, beta=1):\n",
    "    '''\n",
    "    Returns the conservative upper bound on the variance of the SNIPE(beta) estimator\n",
    "\n",
    "    n (int): size of the population\n",
    "    p (float): treatment probability\n",
    "    A (scipy sparse array): adjacency matrix\n",
    "    C (scipy sparse array): weighted adjacency matrix\n",
    "    beta (int): degree of the potential outcomes model\n",
    "    '''\n",
    "    in_deg = scipy.sparse.diags(np.array(A.sum(axis=1)).flatten(),0)  # array of the in-degree of each node\n",
    "    out_deg = scipy.sparse.diags(np.array(A.sum(axis=0)).flatten(),0)  # array of the out-degree of each node\n",
    "    d_in = np.max(in_deg)\n",
    "    d_out = np.max(out_deg)\n",
    "    temp = np.max(4 * (beta**2), 1 / (p*(1-p)))\n",
    "    if beta == 1:\n",
    "        Ymax = np.max(scipy.sparse.diags(np.array(C.sum(axis=1)).flatten(),0))\n",
    "    else:\n",
    "        print(\"Oops... I haven't implemented this for beta>1 yet, so proceed with caution!\")\n",
    "        Ymax = 0\n",
    "    bound = (1/n) * d_in * d_out * (Ymax**2) * (np.exp(1) * d_in * temp)**beta * (1/beta)**beta\n",
    "    return bound"
   ]
  },
  {
   "cell_type": "code",
   "execution_count": null,
   "metadata": {},
   "outputs": [],
   "source": []
  }
 ],
 "metadata": {
  "kernelspec": {
   "display_name": "low-order-clusterRD",
   "language": "python",
   "name": "low-order-clusterrd"
  },
  "language_info": {
   "codemirror_mode": {
    "name": "ipython",
    "version": 3
   },
   "file_extension": ".py",
   "mimetype": "text/x-python",
   "name": "python",
   "nbconvert_exporter": "python",
   "pygments_lexer": "ipython3",
   "version": "3.11.3"
  },
  "orig_nbformat": 4
 },
 "nbformat": 4,
 "nbformat_minor": 2
}
